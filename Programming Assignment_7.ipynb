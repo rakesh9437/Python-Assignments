{
 "cells": [
  {
   "cell_type": "markdown",
   "id": "35297a20",
   "metadata": {},
   "source": [
    "## Programming Basic Assignment 7"
   ]
  },
  {
   "cell_type": "markdown",
   "id": "27349114",
   "metadata": {},
   "source": [
    "### 1. Write a Python Program to find sum of array?"
   ]
  },
  {
   "cell_type": "code",
   "execution_count": 2,
   "id": "d4038c1d",
   "metadata": {},
   "outputs": [
    {
     "name": "stdout",
     "output_type": "stream",
     "text": [
      "36\n"
     ]
    }
   ],
   "source": [
    "arr = [9,6,2,8,11]\n",
    "out = 0\n",
    "for i in arr:\n",
    "    out = out + i\n",
    "    \n",
    "print(out)"
   ]
  },
  {
   "cell_type": "markdown",
   "id": "171a980d",
   "metadata": {},
   "source": [
    "### 2. Write a Python Program to find largest element in an array?\n"
   ]
  },
  {
   "cell_type": "code",
   "execution_count": 8,
   "id": "0e8c6c67",
   "metadata": {},
   "outputs": [
    {
     "name": "stdout",
     "output_type": "stream",
     "text": [
      "11\n"
     ]
    }
   ],
   "source": [
    "a = [9,6,2,8,11]\n",
    "maxVal = a[0]\n",
    "n = len(a)\n",
    "for i in range(0, n):\n",
    "    if a[i] > maxVal:\n",
    "     maxVal = a[i]\n",
    "\n",
    "print(maxVal)"
   ]
  },
  {
   "cell_type": "markdown",
   "id": "21613246",
   "metadata": {},
   "source": [
    "### 3. Write a Python Program for array rotation?"
   ]
  },
  {
   "cell_type": "code",
   "execution_count": 10,
   "id": "8e5eaf8e",
   "metadata": {},
   "outputs": [
    {
     "name": "stdout",
     "output_type": "stream",
     "text": [
      "Array:\n",
      "2\n",
      "4\n",
      "6\n",
      "8\n",
      "11\n",
      "Rotated array:\n",
      "8\n",
      "11\n",
      "2\n",
      "4\n",
      "6\n"
     ]
    }
   ],
   "source": [
    "lst = [2,4,6,8,11]\n",
    "n = 3\n",
    "print(\"Array:\")\n",
    "for i in lst:\n",
    "    print(i)\n",
    "\n",
    "for i in range(0, n):\n",
    "    start = lst[0]\n",
    "\n",
    "    for j in range(0, len(lst)-1):\n",
    "        lst[j] = lst[j+1]\n",
    "\n",
    "    lst[len(lst)-1] = start\n",
    "\n",
    "print(\"Rotated array:\")\n",
    "for i in range(0, len(lst)):\n",
    "    print(lst[i])"
   ]
  },
  {
   "cell_type": "markdown",
   "id": "3e52d939",
   "metadata": {},
   "source": [
    "### 4. Write a Python Program to Split the array and add the first part to the end?"
   ]
  },
  {
   "cell_type": "code",
   "execution_count": 12,
   "id": "ff05170e",
   "metadata": {},
   "outputs": [
    {
     "name": "stdout",
     "output_type": "stream",
     "text": [
      "6 8 11 2 4 "
     ]
    }
   ],
   "source": [
    "arr = [2,4,6,8,11]\n",
    "n = len(arr)\n",
    "split_pos = 2\n",
    "for i in range(0, split_pos):  \n",
    "\tk = arr[0]\n",
    "\tfor j in range(0, n-1):\n",
    "\t\tarr[j] = arr[j + 1]\n",
    "\tarr[n-1] = k\t\n",
    "    \n",
    "for i in range(0, n):\n",
    "\tprint(arr[i],end=' ')"
   ]
  },
  {
   "cell_type": "markdown",
   "id": "aa375779",
   "metadata": {},
   "source": [
    "### 5. Write a Python Program to check if given array is Monotonic?"
   ]
  },
  {
   "cell_type": "code",
   "execution_count": 13,
   "id": "0ae97a9c",
   "metadata": {},
   "outputs": [
    {
     "name": "stdout",
     "output_type": "stream",
     "text": [
      "True\n"
     ]
    }
   ],
   "source": [
    "arr = [2,4,6,8,11]\n",
    "dec = False\n",
    "if(arr[0]>arr[1]):\n",
    "         dec = True\n",
    "for i in range(len(arr)-1):\n",
    "      if(arr[i]<arr[i+1] and dec or arr[i]>arr[i+1] and not dec): \n",
    "            print(False)\n",
    "            break\n",
    "\n",
    "print(True)"
   ]
  },
  {
   "cell_type": "code",
   "execution_count": null,
   "id": "646f2467",
   "metadata": {},
   "outputs": [],
   "source": []
  }
 ],
 "metadata": {
  "kernelspec": {
   "display_name": "Python 3 (ipykernel)",
   "language": "python",
   "name": "python3"
  },
  "language_info": {
   "codemirror_mode": {
    "name": "ipython",
    "version": 3
   },
   "file_extension": ".py",
   "mimetype": "text/x-python",
   "name": "python",
   "nbconvert_exporter": "python",
   "pygments_lexer": "ipython3",
   "version": "3.10.9"
  }
 },
 "nbformat": 4,
 "nbformat_minor": 5
}
