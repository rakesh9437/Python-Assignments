{
 "cells": [
  {
   "cell_type": "markdown",
   "id": "4ac9602a",
   "metadata": {},
   "source": [
    "## Python Basic Programming Assignment - 5\n",
    "--------------\n"
   ]
  },
  {
   "cell_type": "markdown",
   "id": "fdaeee06",
   "metadata": {},
   "source": [
    "### 1. Write a Python Program to Find LCM?"
   ]
  },
  {
   "cell_type": "code",
   "execution_count": null,
   "id": "3c91964d",
   "metadata": {},
   "outputs": [],
   "source": [
    "num1 = int (input (\"Enter the first number:\"))\n",
    "num2 = int (input (\"Enter the second number: \"))\n",
    "if(num1>num2):\n",
    "    larger = num1\n",
    "else:\n",
    "    larger = num2\n",
    "    while (True):\n",
    "        if ((larger % num1 == 0) and (larger % num2 == 0 )):\n",
    "            lcm = larger\n",
    "            break \n",
    "        larger += 1\n",
    "\n",
    "print(lcm) "
   ]
  },
  {
   "cell_type": "markdown",
   "id": "2f459cdf",
   "metadata": {},
   "source": [
    "### 2. Write a Python Program to Find HCF?"
   ]
  },
  {
   "cell_type": "code",
   "execution_count": null,
   "id": "cd001fcf",
   "metadata": {},
   "outputs": [],
   "source": [
    "num1 = int(input(\"Enter first number: \"))  \n",
    "num2 = int(input(\"Enter second number: \"))\n",
    " \n",
    "i = 1\n",
    "while(i <= num1 and i <= num2):\n",
    "    if(num1 % i == 0 and num2 % i == 0):\n",
    "        hcf = i\n",
    "    i = i + 1\n",
    " \n",
    "print(hcf)"
   ]
  },
  {
   "cell_type": "markdown",
   "id": "d2c29370",
   "metadata": {},
   "source": [
    "### 3. Write a Python Program to Convert Decimal to Binary, Octal and Hexadecimal?"
   ]
  },
  {
   "cell_type": "code",
   "execution_count": null,
   "id": "1038882f",
   "metadata": {},
   "outputs": [],
   "source": [
    "decimal = int(input(\"enter decimal number\"))\n",
    "print(\"to binary-\",bin(decimal))\n",
    "print(\"to octal-\",oct(decimal))\n",
    "print(\"to hexadecimal-\",hex(decimal))"
   ]
  },
  {
   "cell_type": "markdown",
   "id": "2a16c5fd",
   "metadata": {},
   "source": [
    "### 4. Write a Python Program To Find ASCII value of a character?"
   ]
  },
  {
   "cell_type": "code",
   "execution_count": null,
   "id": "9a6c657f",
   "metadata": {},
   "outputs": [],
   "source": [
    "char = input(\"enter character\")\n",
    "ans = ord(char)\n",
    "print(\"ascii value = \",ans)"
   ]
  },
  {
   "cell_type": "markdown",
   "id": "226778a0",
   "metadata": {},
   "source": [
    "### 5. Write a Python Program to Make a Simple Calculator with 4 basic mathematical operations?"
   ]
  },
  {
   "cell_type": "code",
   "execution_count": null,
   "id": "9507b534",
   "metadata": {},
   "outputs": [],
   "source": [
    "def add(a, b):\n",
    "    return a + z\n",
    "\n",
    "def subtract(a, b):\n",
    "    return a - b\n",
    "\n",
    "def multiply(a, b):\n",
    "    return a * z\n",
    "\n",
    "def divide(a, b):\n",
    "    return a / b\n",
    "\n",
    "print(\"What do you want to perform\")\n",
    "print(\"1.Addition\")\n",
    "print(\"2.Subtraction\")\n",
    "print(\"3.Multiplication\")\n",
    "print(\"4.Division\")\n",
    "\n",
    "while True:\n",
    "    \n",
    "    choice = input(\"Enter choice - 1/2/3/4\")\n",
    "\n",
    "    if choice in ('1', '2', '3', '4'):\n",
    "        numb1 = float(input(\"Enter first number: \"))\n",
    "        numb2 = float(input(\"Enter second number: \"))"
   ]
  },
  {
   "cell_type": "code",
   "execution_count": null,
   "id": "69b83703",
   "metadata": {},
   "outputs": [],
   "source": []
  }
 ],
 "metadata": {
  "kernelspec": {
   "display_name": "Python 3 (ipykernel)",
   "language": "python",
   "name": "python3"
  },
  "language_info": {
   "codemirror_mode": {
    "name": "ipython",
    "version": 3
   },
   "file_extension": ".py",
   "mimetype": "text/x-python",
   "name": "python",
   "nbconvert_exporter": "python",
   "pygments_lexer": "ipython3",
   "version": "3.10.9"
  }
 },
 "nbformat": 4,
 "nbformat_minor": 5
}
